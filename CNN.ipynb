{
  "nbformat": 4,
  "nbformat_minor": 0,
  "metadata": {
    "colab": {
      "name": "CNN.ipynb",
      "provenance": [],
      "authorship_tag": "ABX9TyNan9/oy0YyI03eWYTHb91A",
      "include_colab_link": true
    },
    "kernelspec": {
      "name": "python3",
      "display_name": "Python 3"
    },
    "language_info": {
      "name": "python"
    },
    "accelerator": "GPU",
    "gpuClass": "standard"
  },
  "cells": [
    {
      "cell_type": "markdown",
      "metadata": {
        "id": "view-in-github",
        "colab_type": "text"
      },
      "source": [
        "<a href=\"https://colab.research.google.com/github/satanjj10/DL_course/blob/main/CNN.ipynb\" target=\"_parent\"><img src=\"https://colab.research.google.com/assets/colab-badge.svg\" alt=\"Open In Colab\"/></a>"
      ]
    },
    {
      "cell_type": "code",
      "execution_count": 1,
      "metadata": {
        "colab": {
          "base_uri": "https://localhost:8080/"
        },
        "id": "ROcw5lhaufdV",
        "outputId": "6ba05f26-0cfb-41bf-86e4-02d068174ce0"
      },
      "outputs": [
        {
          "output_type": "stream",
          "name": "stdout",
          "text": [
            "Downloading data from https://www.cs.toronto.edu/~kriz/cifar-10-python.tar.gz\n",
            "170500096/170498071 [==============================] - 13s 0us/step\n",
            "170508288/170498071 [==============================] - 13s 0us/step\n"
          ]
        }
      ],
      "source": [
        "from tensorflow.keras.datasets.cifar10 import load_data\n",
        "(x_train, y_train), (x_test, y_test) = load_data()"
      ]
    },
    {
      "cell_type": "code",
      "source": [
        "print(x_train.shape)\n",
        "print(y_train.shape)\n",
        "print(x_test.shape)\n",
        "print(y_test.shape)"
      ],
      "metadata": {
        "colab": {
          "base_uri": "https://localhost:8080/"
        },
        "id": "nMiN-pJDvPVH",
        "outputId": "b5d7fd2a-fdc2-4388-d747-0066e2f7981d"
      },
      "execution_count": 2,
      "outputs": [
        {
          "output_type": "stream",
          "name": "stdout",
          "text": [
            "(50000, 32, 32, 3)\n",
            "(50000, 1)\n",
            "(10000, 32, 32, 3)\n",
            "(10000, 1)\n"
          ]
        }
      ]
    },
    {
      "cell_type": "code",
      "source": [
        "trans = [\n",
        "    \"airplane\",\t\t\t\t\t\t\t\t\t\t\n",
        "    \"automobile\",\t\t\t\t\t\t\t\t\t\t\n",
        "    \"bird\",\t\t\t\t\t\t\t\t\t\t\n",
        "    \"cat\",\t\t\t\t\t\t\t\t\t\t\n",
        "    \"deer\",\t\t\t\t\t\t\t\t\t\t\n",
        "    \"dog\",\t\t\t\t\t\t\t\t\t\t\n",
        "    \"frog\",\t\t\t\t\t\t\t\t\t\t\n",
        "    \"horse\",\t\t\t\t\t\t\t\t\t\t\n",
        "    \"ship\",\t\t\t\t\t\t\t\t\t\t\n",
        "    \"truck\",\n",
        "]"
      ],
      "metadata": {
        "id": "3nbW4kHZxgnm"
      },
      "execution_count": 3,
      "outputs": []
    },
    {
      "cell_type": "code",
      "source": [
        "import matplotlib.pyplot as plt\n",
        "idx = 30000\n",
        "print(\"答案是:\", trans[y_train[idx][0]])\n",
        "plt.imshow(x_train[idx])"
      ],
      "metadata": {
        "colab": {
          "base_uri": "https://localhost:8080/",
          "height": 301
        },
        "id": "k2AOlRy-xinV",
        "outputId": "30e6c6ed-2137-4239-bd55-7188b4cb6357"
      },
      "execution_count": 4,
      "outputs": [
        {
          "output_type": "stream",
          "name": "stdout",
          "text": [
            "答案是: airplane\n"
          ]
        },
        {
          "output_type": "execute_result",
          "data": {
            "text/plain": [
              "<matplotlib.image.AxesImage at 0x7fa14f0fecd0>"
            ]
          },
          "metadata": {},
          "execution_count": 4
        },
        {
          "output_type": "display_data",
          "data": {
            "text/plain": [
              "<Figure size 432x288 with 1 Axes>"
            ],
            "image/png": "[encoded data removed]"
          },
          "metadata": {
            "needs_background": "light"
          }
        }
      ]
    },
    {
      "cell_type": "code",
      "source": [
        "from tensorflow.keras.models import Sequential\n",
        "from tensorflow.keras.layers import Conv2D, MaxPooling2D\n",
        "from tensorflow.keras.layers import Dense, Flatten\n",
        "layers = [\n",
        "    # 1 filter(3 * 3 * 3(previous depth)) * 64 + 64(bias) = 1792\n",
        "    Conv2D(64, 3, padding=\"same\", activation=\"relu\", input_shape=(32, 32, 3)),\n",
        "    MaxPooling2D(),\n",
        "    # 1 filter(3 * 3 * 64(previous depth)) * 128 + 128(bias) = 73856\n",
        "    Conv2D(128, 3, padding=\"same\", activation=\"relu\"),\n",
        "    MaxPooling2D(),\n",
        "    Conv2D(256, 3, padding=\"same\", activation=\"relu\"),\n",
        "    MaxPooling2D(),\n",
        "    Flatten(),\n",
        "    # 頭重腳輕(卷積重，MLP輕)(4096 * 10 + 10 = 40970)\n",
        "    Dense(10, activation=\"softmax\")\n",
        "]\n",
        "model = Sequential(layers)\n",
        "model.summary()"
      ],
      "metadata": {
        "colab": {
          "base_uri": "https://localhost:8080/"
        },
        "id": "imFANsu8022s",
        "outputId": "7fa4e82a-dd67-44fe-a0d9-3ce1dcc4fbe9"
      },
      "execution_count": 5,
      "outputs": [
        {
          "output_type": "stream",
          "name": "stdout",
          "text": [
            "Model: \"sequential\"\n",
            "_________________________________________________________________\n",
            " Layer (type)                Output Shape              Param #   \n",
            "=================================================================\n",
            " conv2d (Conv2D)             (None, 32, 32, 64)        1792      \n",
            "                                                                 \n",
            " max_pooling2d (MaxPooling2D  (None, 16, 16, 64)       0         \n",
            " )                                                               \n",
            "                                                                 \n",
            " conv2d_1 (Conv2D)           (None, 16, 16, 128)       73856     \n",
            "                                                                 \n",
            " max_pooling2d_1 (MaxPooling  (None, 8, 8, 128)        0         \n",
            " 2D)                                                             \n",
            "                                                                 \n",
            " conv2d_2 (Conv2D)           (None, 8, 8, 256)         295168    \n",
            "                                                                 \n",
            " max_pooling2d_2 (MaxPooling  (None, 4, 4, 256)        0         \n",
            " 2D)                                                             \n",
            "                                                                 \n",
            " flatten (Flatten)           (None, 4096)              0         \n",
            "                                                                 \n",
            " dense (Dense)               (None, 10)                40970     \n",
            "                                                                 \n",
            "=================================================================\n",
            "Total params: 411,786\n",
            "Trainable params: 411,786\n",
            "Non-trainable params: 0\n",
            "_________________________________________________________________\n"
          ]
        }
      ]
    },
    {
      "cell_type": "code",
      "source": [
        "# GAP: 進MLP後做平均\n",
        "from tensorflow.keras.models import Sequential\n",
        "from tensorflow.keras.layers import Conv2D, MaxPooling2D, GlobalAveragePooling2D\n",
        "from tensorflow.keras.layers import Dense, Flatten\n",
        "layers = [\n",
        "    # 1 filter(3 * 3 * 3(previous depth)) * 64 + 64(bias) = 1792\n",
        "    Conv2D(64, 3, padding=\"same\", activation=\"relu\", input_shape=(32, 32, 3)),\n",
        "    MaxPooling2D(),\n",
        "    # 1 filter(3 * 3 * 64(previous depth)) * 128 + 128(bias) = 73856\n",
        "    Conv2D(128, 3, padding=\"same\", activation=\"relu\"),\n",
        "    MaxPooling2D(),\n",
        "    Conv2D(256, 3, padding=\"same\", activation=\"relu\"),\n",
        "    MaxPooling2D(),\n",
        "    # 進MLP後做平均\n",
        "    GlobalAveragePooling2D(),\n",
        "    # 頭重腳輕(卷積重，MLP輕)(256 * 10 + 10 = 2570)\n",
        "    Dense(10, activation=\"softmax\")\n",
        "]\n",
        "model = Sequential(layers)\n",
        "model.summary()"
      ],
      "metadata": {
        "colab": {
          "base_uri": "https://localhost:8080/"
        },
        "id": "mWp81jDe-ocf",
        "outputId": "ffe6f8d0-5bef-450a-c301-68810476a23b"
      },
      "execution_count": 6,
      "outputs": [
        {
          "output_type": "stream",
          "name": "stdout",
          "text": [
            "Model: \"sequential_1\"\n",
            "_________________________________________________________________\n",
            " Layer (type)                Output Shape              Param #   \n",
            "=================================================================\n",
            " conv2d_3 (Conv2D)           (None, 32, 32, 64)        1792      \n",
            "                                                                 \n",
            " max_pooling2d_3 (MaxPooling  (None, 16, 16, 64)       0         \n",
            " 2D)                                                             \n",
            "                                                                 \n",
            " conv2d_4 (Conv2D)           (None, 16, 16, 128)       73856     \n",
            "                                                                 \n",
            " max_pooling2d_4 (MaxPooling  (None, 8, 8, 128)        0         \n",
            " 2D)                                                             \n",
            "                                                                 \n",
            " conv2d_5 (Conv2D)           (None, 8, 8, 256)         295168    \n",
            "                                                                 \n",
            " max_pooling2d_5 (MaxPooling  (None, 4, 4, 256)        0         \n",
            " 2D)                                                             \n",
            "                                                                 \n",
            " global_average_pooling2d (G  (None, 256)              0         \n",
            " lobalAveragePooling2D)                                          \n",
            "                                                                 \n",
            " dense_1 (Dense)             (None, 10)                2570      \n",
            "                                                                 \n",
            "=================================================================\n",
            "Total params: 373,386\n",
            "Trainable params: 373,386\n",
            "Non-trainable params: 0\n",
            "_________________________________________________________________\n"
          ]
        }
      ]
    },
    {
      "cell_type": "code",
      "source": [
        "from tensorflow.keras.losses import SparseCategoricalCrossentropy\n",
        "model.compile(loss=SparseCategoricalCrossentropy(),\n",
        "       optimizer=\"adam\",\n",
        "       metrics=[\"accuracy\"])"
      ],
      "metadata": {
        "id": "y7OMT6PmCJUn"
      },
      "execution_count": 7,
      "outputs": []
    },
    {
      "cell_type": "code",
      "source": [
        "# 把圖片轉成0，1\n",
        "x_train_norm = x_train / 255.0\n",
        "x_test_norm = x_test / 255.0"
      ],
      "metadata": {
        "id": "2L42GtuGCLbW"
      },
      "execution_count": 8,
      "outputs": []
    },
    {
      "cell_type": "code",
      "source": [
        "# batch_size: 你看多少筆再進行一次梯度下降(5[圖片大/訓練資料少]-200[圖片小/訓練資料多])\n",
        "# epochs: 全體資料(60000) 你要看幾輪(我們什麼時候要停的關鍵)\n",
        "# validation_split: 測試什麼時候停下來要用沒看過的資料(val loss穩定的時候就停, 不要過擬合)\n",
        "# (60000 * 0.9) / 200 -> 270\n",
        "# verbose: 0(quiet) 1(full) 2(no progress bar)\n",
        "from tensorflow.keras.callbacks import ModelCheckpoint, EarlyStopping\n",
        "callbacks = [\n",
        "    ModelCheckpoint(\"cnn.h5\", save_best_only=True),\n",
        "    EarlyStopping(patience=10, restore_best_weights=True)\n",
        "]\n",
        "model.fit(x_train_norm,\n",
        "     y_train,\n",
        "     batch_size=200,\n",
        "     epochs=50,\n",
        "     validation_split=0.1,\n",
        "     verbose=2,\n",
        "     callbacks=callbacks)"
      ],
      "metadata": {
        "colab": {
          "base_uri": "https://localhost:8080/"
        },
        "id": "WHaGz1ZvCRop",
        "outputId": "4c155c80-feab-49c7-f7a4-4fa39b7bb19f"
      },
      "execution_count": 9,
      "outputs": [
        {
          "output_type": "stream",
          "name": "stdout",
          "text": [
            "Epoch 1/50\n",
            "225/225 - 15s - loss: 1.8150 - accuracy: 0.3296 - val_loss: 1.5517 - val_accuracy: 0.4360 - 15s/epoch - 66ms/step\n",
            "Epoch 2/50\n",
            "225/225 - 3s - loss: 1.4943 - accuracy: 0.4627 - val_loss: 1.4308 - val_accuracy: 0.4754 - 3s/epoch - 14ms/step\n",
            "Epoch 3/50\n",
            "225/225 - 3s - loss: 1.3491 - accuracy: 0.5169 - val_loss: 1.2909 - val_accuracy: 0.5446 - 3s/epoch - 14ms/step\n",
            "Epoch 4/50\n",
            "225/225 - 3s - loss: 1.2539 - accuracy: 0.5548 - val_loss: 1.2004 - val_accuracy: 0.5786 - 3s/epoch - 14ms/step\n",
            "Epoch 5/50\n",
            "225/225 - 3s - loss: 1.1634 - accuracy: 0.5875 - val_loss: 1.1832 - val_accuracy: 0.5784 - 3s/epoch - 15ms/step\n",
            "Epoch 6/50\n",
            "225/225 - 3s - loss: 1.1015 - accuracy: 0.6113 - val_loss: 1.0715 - val_accuracy: 0.6274 - 3s/epoch - 14ms/step\n",
            "Epoch 7/50\n",
            "225/225 - 4s - loss: 1.0508 - accuracy: 0.6309 - val_loss: 1.0128 - val_accuracy: 0.6538 - 4s/epoch - 16ms/step\n",
            "Epoch 8/50\n",
            "225/225 - 3s - loss: 1.0033 - accuracy: 0.6481 - val_loss: 1.0421 - val_accuracy: 0.6298 - 3s/epoch - 15ms/step\n",
            "Epoch 9/50\n",
            "225/225 - 3s - loss: 0.9680 - accuracy: 0.6604 - val_loss: 1.0165 - val_accuracy: 0.6420 - 3s/epoch - 15ms/step\n",
            "Epoch 10/50\n",
            "225/225 - 3s - loss: 0.9314 - accuracy: 0.6747 - val_loss: 1.0010 - val_accuracy: 0.6508 - 3s/epoch - 15ms/step\n",
            "Epoch 11/50\n",
            "225/225 - 3s - loss: 0.8965 - accuracy: 0.6866 - val_loss: 0.9314 - val_accuracy: 0.6770 - 3s/epoch - 15ms/step\n",
            "Epoch 12/50\n",
            "225/225 - 3s - loss: 0.8623 - accuracy: 0.6984 - val_loss: 0.8690 - val_accuracy: 0.7016 - 3s/epoch - 15ms/step\n",
            "Epoch 13/50\n",
            "225/225 - 3s - loss: 0.8321 - accuracy: 0.7097 - val_loss: 0.8489 - val_accuracy: 0.7006 - 3s/epoch - 15ms/step\n",
            "Epoch 14/50\n",
            "225/225 - 3s - loss: 0.8125 - accuracy: 0.7177 - val_loss: 0.8347 - val_accuracy: 0.7100 - 3s/epoch - 15ms/step\n",
            "Epoch 15/50\n",
            "225/225 - 3s - loss: 0.7897 - accuracy: 0.7261 - val_loss: 0.8436 - val_accuracy: 0.7098 - 3s/epoch - 14ms/step\n",
            "Epoch 16/50\n",
            "225/225 - 3s - loss: 0.7616 - accuracy: 0.7334 - val_loss: 0.8336 - val_accuracy: 0.7076 - 3s/epoch - 15ms/step\n",
            "Epoch 17/50\n",
            "225/225 - 3s - loss: 0.7440 - accuracy: 0.7417 - val_loss: 0.7918 - val_accuracy: 0.7290 - 3s/epoch - 15ms/step\n",
            "Epoch 18/50\n",
            "225/225 - 3s - loss: 0.7121 - accuracy: 0.7524 - val_loss: 0.8074 - val_accuracy: 0.7264 - 3s/epoch - 14ms/step\n",
            "Epoch 19/50\n",
            "225/225 - 3s - loss: 0.6935 - accuracy: 0.7582 - val_loss: 0.7819 - val_accuracy: 0.7354 - 3s/epoch - 15ms/step\n",
            "Epoch 20/50\n",
            "225/225 - 3s - loss: 0.6603 - accuracy: 0.7714 - val_loss: 0.7635 - val_accuracy: 0.7402 - 3s/epoch - 15ms/step\n",
            "Epoch 21/50\n",
            "225/225 - 3s - loss: 0.6492 - accuracy: 0.7766 - val_loss: 0.7732 - val_accuracy: 0.7382 - 3s/epoch - 14ms/step\n",
            "Epoch 22/50\n",
            "225/225 - 3s - loss: 0.6338 - accuracy: 0.7823 - val_loss: 0.7370 - val_accuracy: 0.7482 - 3s/epoch - 15ms/step\n",
            "Epoch 23/50\n",
            "225/225 - 3s - loss: 0.6053 - accuracy: 0.7902 - val_loss: 0.8055 - val_accuracy: 0.7234 - 3s/epoch - 15ms/step\n",
            "Epoch 24/50\n",
            "225/225 - 3s - loss: 0.5961 - accuracy: 0.7947 - val_loss: 0.7127 - val_accuracy: 0.7564 - 3s/epoch - 15ms/step\n",
            "Epoch 25/50\n",
            "225/225 - 3s - loss: 0.5663 - accuracy: 0.8043 - val_loss: 0.7482 - val_accuracy: 0.7466 - 3s/epoch - 15ms/step\n",
            "Epoch 26/50\n",
            "225/225 - 3s - loss: 0.5511 - accuracy: 0.8102 - val_loss: 0.7097 - val_accuracy: 0.7556 - 3s/epoch - 15ms/step\n",
            "Epoch 27/50\n",
            "225/225 - 3s - loss: 0.5334 - accuracy: 0.8164 - val_loss: 0.6955 - val_accuracy: 0.7630 - 3s/epoch - 15ms/step\n",
            "Epoch 28/50\n",
            "225/225 - 3s - loss: 0.5157 - accuracy: 0.8233 - val_loss: 0.7622 - val_accuracy: 0.7416 - 3s/epoch - 15ms/step\n",
            "Epoch 29/50\n",
            "225/225 - 3s - loss: 0.5038 - accuracy: 0.8263 - val_loss: 0.7132 - val_accuracy: 0.7594 - 3s/epoch - 15ms/step\n",
            "Epoch 30/50\n",
            "225/225 - 3s - loss: 0.4856 - accuracy: 0.8333 - val_loss: 0.7091 - val_accuracy: 0.7644 - 3s/epoch - 15ms/step\n",
            "Epoch 31/50\n",
            "225/225 - 3s - loss: 0.4718 - accuracy: 0.8373 - val_loss: 0.7078 - val_accuracy: 0.7652 - 3s/epoch - 15ms/step\n",
            "Epoch 32/50\n",
            "225/225 - 3s - loss: 0.4474 - accuracy: 0.8467 - val_loss: 0.7044 - val_accuracy: 0.7648 - 3s/epoch - 15ms/step\n",
            "Epoch 33/50\n",
            "225/225 - 3s - loss: 0.4320 - accuracy: 0.8520 - val_loss: 0.7116 - val_accuracy: 0.7618 - 3s/epoch - 15ms/step\n",
            "Epoch 34/50\n",
            "225/225 - 3s - loss: 0.4259 - accuracy: 0.8536 - val_loss: 0.7165 - val_accuracy: 0.7628 - 3s/epoch - 15ms/step\n",
            "Epoch 35/50\n",
            "225/225 - 3s - loss: 0.4021 - accuracy: 0.8626 - val_loss: 0.7038 - val_accuracy: 0.7706 - 3s/epoch - 15ms/step\n",
            "Epoch 36/50\n",
            "225/225 - 3s - loss: 0.3860 - accuracy: 0.8691 - val_loss: 0.7852 - val_accuracy: 0.7556 - 3s/epoch - 15ms/step\n",
            "Epoch 37/50\n",
            "225/225 - 3s - loss: 0.3774 - accuracy: 0.8704 - val_loss: 0.7608 - val_accuracy: 0.7552 - 3s/epoch - 15ms/step\n"
          ]
        },
        {
          "output_type": "execute_result",
          "data": {
            "text/plain": [
              "<keras.callbacks.History at 0x7fa140064e50>"
            ]
          },
          "metadata": {},
          "execution_count": 9
        }
      ]
    },
    {
      "cell_type": "code",
      "source": [
        "model.evaluate(x_test_norm, y_test)"
      ],
      "metadata": {
        "id": "OoZbI5_2GhP4",
        "outputId": "d1fca840-01fe-45d6-9ad8-a2bb2b1b35b0",
        "colab": {
          "base_uri": "https://localhost:8080/"
        }
      },
      "execution_count": 10,
      "outputs": [
        {
          "output_type": "stream",
          "name": "stdout",
          "text": [
            "313/313 [==============================] - 2s 4ms/step - loss: 0.7237 - accuracy: 0.7531\n"
          ]
        },
        {
          "output_type": "execute_result",
          "data": {
            "text/plain": [
              "[0.7236937284469604, 0.7530999779701233]"
            ]
          },
          "metadata": {},
          "execution_count": 10
        }
      ]
    },
    {
      "cell_type": "code",
      "source": [
        "pre = model.predict(x_test_norm).argmax(axis=-1)\n",
        "# 為種類\n",
        "print(pre.shape)\n",
        "# 為表格\n",
        "print(y_test.shape)\n",
        "# 轉為種類\n",
        "y_test_r = y_test.reshape(10000)\n",
        "print(y_test_r.shape)"
      ],
      "metadata": {
        "id": "hwUwuznaIQr7",
        "outputId": "55af26c3-b086-4333-9fe9-7906c809801a",
        "colab": {
          "base_uri": "https://localhost:8080/"
        }
      },
      "execution_count": 11,
      "outputs": [
        {
          "output_type": "stream",
          "name": "stdout",
          "text": [
            "(10000,)\n",
            "(10000, 1)\n",
            "(10000,)\n"
          ]
        }
      ]
    },
    {
      "cell_type": "code",
      "source": [
        "# 雙方向(axis=1)\n",
        "# 在tf用y_test_cat(十個機率), 出tf用y_test(確實答案)\n",
        "import pandas as pd\n",
        "from sklearn.metrics import confusion_matrix\n",
        "pre = model.predict(x_test_norm).argmax(axis=-1)\n",
        "mat = confusion_matrix(y_test_r, pre)\n",
        "pd.DataFrame(mat,\n",
        "      columns=[\"{}(預測)\".format(trans[i]) for i in range(10)],\n",
        "      index=[\"{}(真實)\".format(trans[i]) for i in range(10)])"
      ],
      "metadata": {
        "id": "-eHpcQC_ISx8",
        "outputId": "31394e16-4bc8-41eb-8b4b-9db80bdd609f",
        "colab": {
          "base_uri": "https://localhost:8080/",
          "height": 363
        }
      },
      "execution_count": 12,
      "outputs": [
        {
          "output_type": "execute_result",
          "data": {
            "text/plain": [
              "                airplane(預測)  automobile(預測)  bird(預測)  cat(預測)  deer(預測)  \\\n",
              "airplane(真實)             726              18        35       13        19   \n",
              "automobile(真實)            11             883         2        3         3   \n",
              "bird(真實)                  51               3       562       53       110   \n",
              "cat(真實)                    9               9        40      502        81   \n",
              "deer(真實)                  11               3        37       35       762   \n",
              "dog(真實)                    7               5        17      108        57   \n",
              "frog(真實)                   2               4        25       35        36   \n",
              "horse(真實)                 14               0        22       25        69   \n",
              "ship(真實)                  27              26         8        6         9   \n",
              "truck(真實)                 26              70         5       11         4   \n",
              "\n",
              "                dog(預測)  frog(預測)  horse(預測)  ship(預測)  truck(預測)  \n",
              "airplane(真實)         13        15         15       116         30  \n",
              "automobile(真實)        4         8          2        23         61  \n",
              "bird(真實)             81        93         28        10          9  \n",
              "cat(真實)             186        97         39        17         20  \n",
              "deer(真實)             36        50         48        13          5  \n",
              "dog(真實)             714        38         40         7          7  \n",
              "frog(真實)             19       866          3         9          1  \n",
              "horse(真實)            55        13        790         3          9  \n",
              "ship(真實)              4         9          3       891         17  \n",
              "truck(真實)             4         6         10        29        835  "
            ],
            "text/html": [
              "\n",
              "  <div id=\"df-a93821b3-e1bf-46fe-bcd6-6a3f11e60970\">\n",
              "    <div class=\"colab-df-container\">\n",
              "      <div>\n",
              "<style scoped>\n",
              "    .dataframe tbody tr th:only-of-type {\n",
              "        vertical-align: middle;\n",
              "    }\n",
              "\n",
              "    .dataframe tbody tr th {\n",
              "        vertical-align: top;\n",
              "    }\n",
              "\n",
              "    .dataframe thead th {\n",
              "        text-align: right;\n",
              "    }\n",
              "</style>\n",
              "<table border=\"1\" class=\"dataframe\">\n",
              "  <thead>\n",
              "    <tr style=\"text-align: right;\">\n",
              "      <th></th>\n",
              "      <th>airplane(預測)</th>\n",
              "      <th>automobile(預測)</th>\n",
              "      <th>bird(預測)</th>\n",
              "      <th>cat(預測)</th>\n",
              "      <th>deer(預測)</th>\n",
              "      <th>dog(預測)</th>\n",
              "      <th>frog(預測)</th>\n",
              "      <th>horse(預測)</th>\n",
              "      <th>ship(預測)</th>\n",
              "      <th>truck(預測)</th>\n",
              "    </tr>\n",
              "  </thead>\n",
              "  <tbody>\n",
              "    <tr>\n",
              "      <th>airplane(真實)</th>\n",
              "      <td>726</td>\n",
              "      <td>18</td>\n",
              "      <td>35</td>\n",
              "      <td>13</td>\n",
              "      <td>19</td>\n",
              "      <td>13</td>\n",
              "      <td>15</td>\n",
              "      <td>15</td>\n",
              "      <td>116</td>\n",
              "      <td>30</td>\n",
              "    </tr>\n",
              "    <tr>\n",
              "      <th>automobile(真實)</th>\n",
              "      <td>11</td>\n",
              "      <td>883</td>\n",
              "      <td>2</td>\n",
              "      <td>3</td>\n",
              "      <td>3</td>\n",
              "      <td>4</td>\n",
              "      <td>8</td>\n",
              "      <td>2</td>\n",
              "      <td>23</td>\n",
              "      <td>61</td>\n",
              "    </tr>\n",
              "    <tr>\n",
              "      <th>bird(真實)</th>\n",
              "      <td>51</td>\n",
              "      <td>3</td>\n",
              "      <td>562</td>\n",
              "      <td>53</td>\n",
              "      <td>110</td>\n",
              "      <td>81</td>\n",
              "      <td>93</td>\n",
              "      <td>28</td>\n",
              "      <td>10</td>\n",
              "      <td>9</td>\n",
              "    </tr>\n",
              "    <tr>\n",
              "      <th>cat(真實)</th>\n",
              "      <td>9</td>\n",
              "      <td>9</td>\n",
              "      <td>40</td>\n",
              "      <td>502</td>\n",
              "      <td>81</td>\n",
              "      <td>186</td>\n",
              "      <td>97</td>\n",
              "      <td>39</td>\n",
              "      <td>17</td>\n",
              "      <td>20</td>\n",
              "    </tr>\n",
              "    <tr>\n",
              "      <th>deer(真實)</th>\n",
              "      <td>11</td>\n",
              "      <td>3</td>\n",
              "      <td>37</td>\n",
              "      <td>35</td>\n",
              "      <td>762</td>\n",
              "      <td>36</td>\n",
              "      <td>50</td>\n",
              "      <td>48</td>\n",
              "      <td>13</td>\n",
              "      <td>5</td>\n",
              "    </tr>\n",
              "    <tr>\n",
              "      <th>dog(真實)</th>\n",
              "      <td>7</td>\n",
              "      <td>5</td>\n",
              "      <td>17</td>\n",
              "      <td>108</td>\n",
              "      <td>57</td>\n",
              "      <td>714</td>\n",
              "      <td>38</td>\n",
              "      <td>40</td>\n",
              "      <td>7</td>\n",
              "      <td>7</td>\n",
              "    </tr>\n",
              "    <tr>\n",
              "      <th>frog(真實)</th>\n",
              "      <td>2</td>\n",
              "      <td>4</td>\n",
              "      <td>25</td>\n",
              "      <td>35</td>\n",
              "      <td>36</td>\n",
              "      <td>19</td>\n",
              "      <td>866</td>\n",
              "      <td>3</td>\n",
              "      <td>9</td>\n",
              "      <td>1</td>\n",
              "    </tr>\n",
              "    <tr>\n",
              "      <th>horse(真實)</th>\n",
              "      <td>14</td>\n",
              "      <td>0</td>\n",
              "      <td>22</td>\n",
              "      <td>25</td>\n",
              "      <td>69</td>\n",
              "      <td>55</td>\n",
              "      <td>13</td>\n",
              "      <td>790</td>\n",
              "      <td>3</td>\n",
              "      <td>9</td>\n",
              "    </tr>\n",
              "    <tr>\n",
              "      <th>ship(真實)</th>\n",
              "      <td>27</td>\n",
              "      <td>26</td>\n",
              "      <td>8</td>\n",
              "      <td>6</td>\n",
              "      <td>9</td>\n",
              "      <td>4</td>\n",
              "      <td>9</td>\n",
              "      <td>3</td>\n",
              "      <td>891</td>\n",
              "      <td>17</td>\n",
              "    </tr>\n",
              "    <tr>\n",
              "      <th>truck(真實)</th>\n",
              "      <td>26</td>\n",
              "      <td>70</td>\n",
              "      <td>5</td>\n",
              "      <td>11</td>\n",
              "      <td>4</td>\n",
              "      <td>4</td>\n",
              "      <td>6</td>\n",
              "      <td>10</td>\n",
              "      <td>29</td>\n",
              "      <td>835</td>\n",
              "    </tr>\n",
              "  </tbody>\n",
              "</table>\n",
              "</div>\n",
              "      <button class=\"colab-df-convert\" onclick=\"convertToInteractive('df-a93821b3-e1bf-46fe-bcd6-6a3f11e60970')\"\n",
              "              title=\"Convert this dataframe to an interactive table.\"\n",
              "              style=\"display:none;\">\n",
              "        \n",
              "  <svg xmlns=\"http://www.w3.org/2000/svg\" height=\"24px\"viewBox=\"0 0 24 24\"\n",
              "       width=\"24px\">\n",
              "    <path d=\"M0 0h24v24H0V0z\" fill=\"none\"/>\n",
              "    <path d=\"M18.56 5.44l.94 2.06.94-2.06 2.06-.94-2.06-.94-.94-2.06-.94 2.06-2.06.94zm-11 1L8.5 8.5l.94-2.06 2.06-.94-2.06-.94L8.5 2.5l-.94 2.06-2.06.94zm10 10l.94 2.06.94-2.06 2.06-.94-2.06-.94-.94-2.06-.94 2.06-2.06.94z\"/><path d=\"M17.41 7.96l-1.37-1.37c-.4-.4-.92-.59-1.43-.59-.52 0-1.04.2-1.43.59L10.3 9.45l-7.72 7.72c-.78.78-.78 2.05 0 2.83L4 21.41c.39.39.9.59 1.41.59.51 0 1.02-.2 1.41-.59l7.78-7.78 2.81-2.81c.8-.78.8-2.07 0-2.86zM5.41 20L4 18.59l7.72-7.72 1.47 1.35L5.41 20z\"/>\n",
              "  </svg>\n",
              "      </button>\n",
              "      \n",
              "  <style>\n",
              "    .colab-df-container {\n",
              "      display:flex;\n",
              "      flex-wrap:wrap;\n",
              "      gap: 12px;\n",
              "    }\n",
              "\n",
              "    .colab-df-convert {\n",
              "      background-color: #E8F0FE;\n",
              "      border: none;\n",
              "      border-radius: 50%;\n",
              "      cursor: pointer;\n",
              "      display: none;\n",
              "      fill: #1967D2;\n",
              "      height: 32px;\n",
              "      padding: 0 0 0 0;\n",
              "      width: 32px;\n",
              "    }\n",
              "\n",
              "    .colab-df-convert:hover {\n",
              "      background-color: #E2EBFA;\n",
              "      box-shadow: 0px 1px 2px rgba(60, 64, 67, 0.3), 0px 1px 3px 1px rgba(60, 64, 67, 0.15);\n",
              "      fill: #174EA6;\n",
              "    }\n",
              "\n",
              "    [theme=dark] .colab-df-convert {\n",
              "      background-color: #3B4455;\n",
              "      fill: #D2E3FC;\n",
              "    }\n",
              "\n",
              "    [theme=dark] .colab-df-convert:hover {\n",
              "      background-color: #434B5C;\n",
              "      box-shadow: 0px 1px 3px 1px rgba(0, 0, 0, 0.15);\n",
              "      filter: drop-shadow(0px 1px 2px rgba(0, 0, 0, 0.3));\n",
              "      fill: #FFFFFF;\n",
              "    }\n",
              "  </style>\n",
              "\n",
              "      <script>\n",
              "        const buttonEl =\n",
              "          document.querySelector('#df-a93821b3-e1bf-46fe-bcd6-6a3f11e60970 button.colab-df-convert');\n",
              "        buttonEl.style.display =\n",
              "          google.colab.kernel.accessAllowed ? 'block' : 'none';\n",
              "\n",
              "        async function convertToInteractive(key) {\n",
              "          const element = document.querySelector('#df-a93821b3-e1bf-46fe-bcd6-6a3f11e60970');\n",
              "          const dataTable =\n",
              "            await google.colab.kernel.invokeFunction('convertToInteractive',\n",
              "                                                     [key], {});\n",
              "          if (!dataTable) return;\n",
              "\n",
              "          const docLinkHtml = 'Like what you see? Visit the ' +\n",
              "            '<a target=\"_blank\" href=https://colab.research.google.com/notebooks/data_table.ipynb>data table notebook</a>'\n",
              "            + ' to learn more about interactive tables.';\n",
              "          element.innerHTML = '';\n",
              "          dataTable['output_type'] = 'display_data';\n",
              "          await google.colab.output.renderOutput(dataTable, element);\n",
              "          const docLink = document.createElement('div');\n",
              "          docLink.innerHTML = docLinkHtml;\n",
              "          element.appendChild(docLink);\n",
              "        }\n",
              "      </script>\n",
              "    </div>\n",
              "  </div>\n",
              "  "
            ]
          },
          "metadata": {},
          "execution_count": 12
        }
      ]
    }
  ]
}