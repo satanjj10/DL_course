{
  "nbformat": 4,
  "nbformat_minor": 0,
  "metadata": {
    "colab": {
      "name": "CNN.ipynb",
      "provenance": [],
      "authorship_tag": "ABX9TyOvNp1bVxBZYDjauFEY6liS",
      "include_colab_link": true
    },
    "kernelspec": {
      "name": "python3",
      "display_name": "Python 3"
    },
    "language_info": {
      "name": "python"
    },
    "accelerator": "GPU",
    "gpuClass": "standard"
  },
  "cells": [
    {
      "cell_type": "markdown",
      "metadata": {
        "id": "view-in-github",
        "colab_type": "text"
      },
      "source": [
        "<a href=\"https://colab.research.google.com/github/satanjj10/DL_course/blob/main/CNN.ipynb\" target=\"_parent\"><img src=\"https://colab.research.google.com/assets/colab-badge.svg\" alt=\"Open In Colab\"/></a>"
      ]
    },
    {
      "cell_type": "code",
      "execution_count": 1,
      "metadata": {
        "colab": {
          "base_uri": "https://localhost:8080/"
        },
        "id": "ROcw5lhaufdV",
        "outputId": "2de511c9-c357-40a0-b5b6-a64c380c96e3"
      },
      "outputs": [
        {
          "output_type": "stream",
          "name": "stdout",
          "text": [
            "A local file was found, but it seems to be incomplete or outdated because the auto file hash does not match the original value of 6d958be074577803d12ecdefd02955f39262c83c16fe9348329d7fe0b5c001ce so we will re-download the data.\n",
            "Downloading data from https://www.cs.toronto.edu/~kriz/cifar-10-python.tar.gz\n",
            "170500096/170498071 [==============================] - 13s 0us/step\n",
            "170508288/170498071 [==============================] - 13s 0us/step\n"
          ]
        }
      ],
      "source": [
        "from tensorflow.keras.datasets.cifar10 import load_data\n",
        "(x_train, y_train), (x_test, y_test) = load_data()"
      ]
    },
    {
      "cell_type": "code",
      "source": [
        "print(x_train.shape)\n",
        "print(y_train.shape)\n",
        "print(x_test.shape)\n",
        "print(y_test.shape)"
      ],
      "metadata": {
        "colab": {
          "base_uri": "https://localhost:8080/"
        },
        "id": "nMiN-pJDvPVH",
        "outputId": "4bd8ee2d-8155-4b2e-e912-14334fddb049"
      },
      "execution_count": 2,
      "outputs": [
        {
          "output_type": "stream",
          "name": "stdout",
          "text": [
            "(50000, 32, 32, 3)\n",
            "(50000, 1)\n",
            "(10000, 32, 32, 3)\n",
            "(10000, 1)\n"
          ]
        }
      ]
    },
    {
      "cell_type": "code",
      "source": [
        "trans = [\n",
        "    \"airplane\",\t\t\t\t\t\t\t\t\t\t\n",
        "    \"automobile\",\t\t\t\t\t\t\t\t\t\t\n",
        "    \"bird\",\t\t\t\t\t\t\t\t\t\t\n",
        "    \"cat\",\t\t\t\t\t\t\t\t\t\t\n",
        "    \"deer\",\t\t\t\t\t\t\t\t\t\t\n",
        "    \"dog\",\t\t\t\t\t\t\t\t\t\t\n",
        "    \"frog\",\t\t\t\t\t\t\t\t\t\t\n",
        "    \"horse\",\t\t\t\t\t\t\t\t\t\t\n",
        "    \"ship\",\t\t\t\t\t\t\t\t\t\t\n",
        "    \"truck\",\n",
        "]"
      ],
      "metadata": {
        "id": "3nbW4kHZxgnm"
      },
      "execution_count": 3,
      "outputs": []
    },
    {
      "cell_type": "code",
      "source": [
        "import matplotlib.pyplot as plt\n",
        "idx = 30000\n",
        "print(\"答案是:\", trans[y_train[idx][0]])\n",
        "plt.imshow(x_train[idx])"
      ],
      "metadata": {
        "id": "k2AOlRy-xinV",
        "outputId": "b74e2f2b-6d56-4f1f-c08e-1ec4dec0fab0",
        "colab": {
          "base_uri": "https://localhost:8080/",
          "height": 301
        }
      },
      "execution_count": 6,
      "outputs": [
        {
          "output_type": "stream",
          "name": "stdout",
          "text": [
            "答案是: airplane\n"
          ]
        },
        {
          "output_type": "execute_result",
          "data": {
            "text/plain": [
              "<matplotlib.image.AxesImage at 0x7f246e108090>"
            ]
          },
          "metadata": {},
          "execution_count": 6
        },
        {
          "output_type": "display_data",
          "data": {
            "text/plain": [
              "<Figure size 432x288 with 1 Axes>"
            ],
            "image/png": "[encoded data removed]"
          },
          "metadata": {
            "needs_background": "light"
          }
        }
      ]
    },
    {
      "cell_type": "code",
      "source": [
        "from tensorflow.keras.models import Sequential\n",
        "from tensorflow.keras.layers import Conv2D, MaxPooling2D\n",
        "from tensorflow.keras.layers import Dense, Flatten\n",
        "layers = [\n",
        "    # 1 filter(3 * 3 * 3(previous depth)) * 64 + 64(bias) = 1792\n",
        "    Conv2D(64, 3, padding=\"same\", activation=\"relu\", input_shape=(32, 32, 3)),\n",
        "    MaxPooling2D(),\n",
        "    # 1 filter(3 * 3 * 64(previous depth)) * 128 + 128(bias) = 73856\n",
        "    Conv2D(128, 3, padding=\"same\", activation=\"relu\"),\n",
        "    MaxPooling2D(),\n",
        "    Conv2D(256, 3, padding=\"same\", activation=\"relu\"),\n",
        "    MaxPooling2D(),\n",
        "    Flatten(),\n",
        "    # 頭重腳輕(卷積重，MLP輕)(4096 * 10 + 10 = 40970)\n",
        "    Dense(10, activation=\"softmax\")\n",
        "]\n",
        "model = Sequential(layers)\n",
        "model.summary()"
      ],
      "metadata": {
        "id": "imFANsu8022s",
        "outputId": "ebe03639-bbfa-4937-a24d-ae87a961d72e",
        "colab": {
          "base_uri": "https://localhost:8080/"
        }
      },
      "execution_count": 9,
      "outputs": [
        {
          "output_type": "stream",
          "name": "stdout",
          "text": [
            "Model: \"sequential_2\"\n",
            "_________________________________________________________________\n",
            " Layer (type)                Output Shape              Param #   \n",
            "=================================================================\n",
            " conv2d_6 (Conv2D)           (None, 32, 32, 64)        1792      \n",
            "                                                                 \n",
            " max_pooling2d_6 (MaxPooling  (None, 16, 16, 64)       0         \n",
            " 2D)                                                             \n",
            "                                                                 \n",
            " conv2d_7 (Conv2D)           (None, 16, 16, 128)       73856     \n",
            "                                                                 \n",
            " max_pooling2d_7 (MaxPooling  (None, 8, 8, 128)        0         \n",
            " 2D)                                                             \n",
            "                                                                 \n",
            " conv2d_8 (Conv2D)           (None, 8, 8, 256)         295168    \n",
            "                                                                 \n",
            " max_pooling2d_8 (MaxPooling  (None, 4, 4, 256)        0         \n",
            " 2D)                                                             \n",
            "                                                                 \n",
            " flatten_2 (Flatten)         (None, 4096)              0         \n",
            "                                                                 \n",
            " dense (Dense)               (None, 10)                40970     \n",
            "                                                                 \n",
            "=================================================================\n",
            "Total params: 411,786\n",
            "Trainable params: 411,786\n",
            "Non-trainable params: 0\n",
            "_________________________________________________________________\n"
          ]
        }
      ]
    },
    {
      "cell_type": "code",
      "source": [
        "# GAP: 進MLP後做平均\n",
        "from tensorflow.keras.models import Sequential\n",
        "from tensorflow.keras.layers import Conv2D, MaxPooling2D, GlobalAveragePooling2D\n",
        "from tensorflow.keras.layers import Dense, Flatten\n",
        "layers = [\n",
        "    # 1 filter(3 * 3 * 3(previous depth)) * 64 + 64(bias) = 1792\n",
        "    Conv2D(64, 3, padding=\"same\", activation=\"relu\", input_shape=(32, 32, 3)),\n",
        "    MaxPooling2D(),\n",
        "    # 1 filter(3 * 3 * 64(previous depth)) * 128 + 128(bias) = 73856\n",
        "    Conv2D(128, 3, padding=\"same\", activation=\"relu\"),\n",
        "    MaxPooling2D(),\n",
        "    Conv2D(256, 3, padding=\"same\", activation=\"relu\"),\n",
        "    MaxPooling2D(),\n",
        "    # 進MLP後做平均\n",
        "    GlobalAveragePooling2D(),\n",
        "    # 頭重腳輕(卷積重，MLP輕)(256 * 10 + 10 = 2570)\n",
        "    Dense(10, activation=\"softmax\")\n",
        "]\n",
        "model = Sequential(layers)\n",
        "model.summary()"
      ],
      "metadata": {
        "id": "mWp81jDe-ocf",
        "outputId": "fc08b66b-42c5-4f6a-8148-698aba8a1b73",
        "colab": {
          "base_uri": "https://localhost:8080/"
        }
      },
      "execution_count": 10,
      "outputs": [
        {
          "output_type": "stream",
          "name": "stdout",
          "text": [
            "Model: \"sequential_3\"\n",
            "_________________________________________________________________\n",
            " Layer (type)                Output Shape              Param #   \n",
            "=================================================================\n",
            " conv2d_9 (Conv2D)           (None, 32, 32, 64)        1792      \n",
            "                                                                 \n",
            " max_pooling2d_9 (MaxPooling  (None, 16, 16, 64)       0         \n",
            " 2D)                                                             \n",
            "                                                                 \n",
            " conv2d_10 (Conv2D)          (None, 16, 16, 128)       73856     \n",
            "                                                                 \n",
            " max_pooling2d_10 (MaxPoolin  (None, 8, 8, 128)        0         \n",
            " g2D)                                                            \n",
            "                                                                 \n",
            " conv2d_11 (Conv2D)          (None, 8, 8, 256)         295168    \n",
            "                                                                 \n",
            " max_pooling2d_11 (MaxPoolin  (None, 4, 4, 256)        0         \n",
            " g2D)                                                            \n",
            "                                                                 \n",
            " global_average_pooling2d (G  (None, 256)              0         \n",
            " lobalAveragePooling2D)                                          \n",
            "                                                                 \n",
            " dense_1 (Dense)             (None, 10)                2570      \n",
            "                                                                 \n",
            "=================================================================\n",
            "Total params: 373,386\n",
            "Trainable params: 373,386\n",
            "Non-trainable params: 0\n",
            "_________________________________________________________________\n"
          ]
        }
      ]
    },
    {
      "cell_type": "code",
      "source": [
        "from tensorflow.keras.losses import SparseCategoricalCrossentropy\n",
        "model.compile(loss=SparseCategoricalCrossentropy(),\n",
        "       optimizer=\"adam\",\n",
        "       metrics=[\"accuracy\"])"
      ],
      "metadata": {
        "id": "y7OMT6PmCJUn"
      },
      "execution_count": 11,
      "outputs": []
    },
    {
      "cell_type": "code",
      "source": [
        "# 把圖片轉成0，1\n",
        "x_train_norm = x_train / 255.0\n",
        "x_test_norm = x_test / 255.0"
      ],
      "metadata": {
        "id": "2L42GtuGCLbW"
      },
      "execution_count": 12,
      "outputs": []
    },
    {
      "cell_type": "code",
      "source": [
        "# batch_size: 你看多少筆再進行一次梯度下降(5[圖片大/訓練資料少]-200[圖片小/訓練資料多])\n",
        "# epochs: 全體資料(60000) 你要看幾輪(我們什麼時候要停的關鍵)\n",
        "# validation_split: 測試什麼時候停下來要用沒看過的資料(val loss穩定的時候就停, 不要過擬合)\n",
        "# (60000 * 0.9) / 200 -> 270\n",
        "# verbose: 0(quiet) 1(full) 2(no progress bar)\n",
        "from tensorflow.keras.callbacks import ModelCheckpoint, EarlyStopping\n",
        "callbacks = [\n",
        "    ModelCheckpoint(\"cnn.h5\", save_best_only=True),\n",
        "    EarlyStopping(patience=10, restore_best_weights=True)\n",
        "]\n",
        "model.fit(x_train_norm,\n",
        "     y_train,\n",
        "     batch_size=200,\n",
        "     epochs=50,\n",
        "     validation_split=0.1,\n",
        "     verbose=2,\n",
        "     callbacks=callbacks)"
      ],
      "metadata": {
        "id": "WHaGz1ZvCRop",
        "outputId": "23ffb802-ef0a-463d-c3fc-15ebd79a5505",
        "colab": {
          "base_uri": "https://localhost:8080/"
        }
      },
      "execution_count": null,
      "outputs": [
        {
          "output_type": "stream",
          "name": "stdout",
          "text": [
            "Epoch 1/50\n",
            "225/225 - 15s - loss: 1.8294 - accuracy: 0.3204 - val_loss: 1.5735 - val_accuracy: 0.4160 - 15s/epoch - 68ms/step\n",
            "Epoch 2/50\n",
            "225/225 - 3s - loss: 1.5200 - accuracy: 0.4472 - val_loss: 1.4241 - val_accuracy: 0.4810 - 3s/epoch - 15ms/step\n",
            "Epoch 3/50\n",
            "225/225 - 4s - loss: 1.3773 - accuracy: 0.5058 - val_loss: 1.3232 - val_accuracy: 0.5106 - 4s/epoch - 16ms/step\n",
            "Epoch 4/50\n",
            "225/225 - 4s - loss: 1.2755 - accuracy: 0.5433 - val_loss: 1.2440 - val_accuracy: 0.5522 - 4s/epoch - 16ms/step\n",
            "Epoch 5/50\n",
            "225/225 - 4s - loss: 1.1983 - accuracy: 0.5757 - val_loss: 1.1540 - val_accuracy: 0.5906 - 4s/epoch - 16ms/step\n",
            "Epoch 6/50\n",
            "225/225 - 4s - loss: 1.1333 - accuracy: 0.6029 - val_loss: 1.1051 - val_accuracy: 0.6200 - 4s/epoch - 16ms/step\n",
            "Epoch 7/50\n",
            "225/225 - 3s - loss: 1.0852 - accuracy: 0.6193 - val_loss: 1.0480 - val_accuracy: 0.6432 - 3s/epoch - 15ms/step\n",
            "Epoch 8/50\n",
            "225/225 - 4s - loss: 1.0307 - accuracy: 0.6364 - val_loss: 1.0271 - val_accuracy: 0.6402 - 4s/epoch - 16ms/step\n",
            "Epoch 9/50\n",
            "225/225 - 4s - loss: 0.9979 - accuracy: 0.6497 - val_loss: 0.9860 - val_accuracy: 0.6638 - 4s/epoch - 16ms/step\n",
            "Epoch 10/50\n",
            "225/225 - 3s - loss: 0.9576 - accuracy: 0.6664 - val_loss: 0.9637 - val_accuracy: 0.6688 - 3s/epoch - 15ms/step\n",
            "Epoch 11/50\n",
            "225/225 - 3s - loss: 0.9318 - accuracy: 0.6709 - val_loss: 0.9448 - val_accuracy: 0.6730 - 3s/epoch - 15ms/step\n",
            "Epoch 12/50\n",
            "225/225 - 3s - loss: 0.8970 - accuracy: 0.6864 - val_loss: 0.8875 - val_accuracy: 0.6942 - 3s/epoch - 15ms/step\n",
            "Epoch 13/50\n",
            "225/225 - 4s - loss: 0.8659 - accuracy: 0.6977 - val_loss: 0.9626 - val_accuracy: 0.6656 - 4s/epoch - 16ms/step\n",
            "Epoch 14/50\n",
            "225/225 - 4s - loss: 0.8417 - accuracy: 0.7046 - val_loss: 0.8544 - val_accuracy: 0.7084 - 4s/epoch - 16ms/step\n",
            "Epoch 15/50\n",
            "225/225 - 4s - loss: 0.8074 - accuracy: 0.7192 - val_loss: 0.8485 - val_accuracy: 0.7118 - 4s/epoch - 16ms/step\n",
            "Epoch 16/50\n",
            "225/225 - 3s - loss: 0.7876 - accuracy: 0.7270 - val_loss: 0.8578 - val_accuracy: 0.7076 - 3s/epoch - 15ms/step\n",
            "Epoch 17/50\n",
            "225/225 - 4s - loss: 0.7698 - accuracy: 0.7335 - val_loss: 0.8058 - val_accuracy: 0.7236 - 4s/epoch - 16ms/step\n",
            "Epoch 18/50\n",
            "225/225 - 3s - loss: 0.7504 - accuracy: 0.7398 - val_loss: 0.8146 - val_accuracy: 0.7274 - 3s/epoch - 15ms/step\n",
            "Epoch 19/50\n",
            "225/225 - 3s - loss: 0.7214 - accuracy: 0.7497 - val_loss: 0.7972 - val_accuracy: 0.7244 - 3s/epoch - 15ms/step\n",
            "Epoch 20/50\n",
            "225/225 - 4s - loss: 0.7094 - accuracy: 0.7536 - val_loss: 0.7929 - val_accuracy: 0.7348 - 4s/epoch - 16ms/step\n",
            "Epoch 21/50\n",
            "225/225 - 3s - loss: 0.6824 - accuracy: 0.7631 - val_loss: 0.8653 - val_accuracy: 0.7014 - 3s/epoch - 15ms/step\n"
          ]
        }
      ]
    }
  ]
}